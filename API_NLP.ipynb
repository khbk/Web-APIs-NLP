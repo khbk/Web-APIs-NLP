{
 "cells": [
  {
   "cell_type": "code",
   "execution_count": 505,
   "id": "07c0d644",
   "metadata": {},
   "outputs": [],
   "source": [
    "import pandas as pd\n",
    "import numpy as np\n",
    "import matplotlib.pyplot as plt\n",
    "import requests\n",
    "import time\n",
    "\n",
    "from sklearn.model_selection import train_test_split, GridSearchCV, cross_val_predict, cross_val_score\n",
    "from nltk.stem import WordNetLemmatizer\n",
    "from nltk.tokenize import sent_tokenize, word_tokenize, RegexpTokenizer\n",
    "from nltk.corpus import stopwords\n",
    "from sklearn.feature_extraction.text import CountVectorizer, TfidfVectorizer\n",
    "from sklearn.linear_model import LogisticRegression\n",
    "from sklearn.metrics import plot_confusion_matrix\n",
    "from sklearn.neighbors import KNeighborsClassifier\n",
    "from sklearn.pipeline import Pipeline\n",
    "from sklearn.preprocessing import StandardScaler\n",
    "import re"
   ]
  },
  {
   "cell_type": "markdown",
   "id": "52f93a63",
   "metadata": {},
   "source": [
    "In week four we've learned about a few different classifiers. In week five we'll learn about webscraping, APIs, and Natural Language Processing (NLP). This project will put those skills to the test."
   ]
  },
  {
   "cell_type": "markdown",
   "id": "13888395",
   "metadata": {},
   "source": [
    "For project 3, your goal is two-fold:\n",
    "\n",
    "1. Using Pushshift's API, you'll collect posts from two subreddits of your choosing.\n",
    "2. You'll then use NLP to train a classifier on which subreddit a given post came from. This is a binary classification problem."
   ]
  },
  {
   "cell_type": "markdown",
   "id": "2af9d0cb",
   "metadata": {},
   "source": [
    "In order to not take up too much time, I have created another notebook to create a CSV "
   ]
  },
  {
   "cell_type": "code",
   "execution_count": 506,
   "id": "a2808b6c",
   "metadata": {},
   "outputs": [],
   "source": [
    "df = pd.read_csv('reddit_df.csv')"
   ]
  },
  {
   "cell_type": "code",
   "execution_count": 507,
   "id": "7688b2d2",
   "metadata": {},
   "outputs": [],
   "source": [
    "df = df.drop(columns = 'Unnamed: 0')"
   ]
  },
  {
   "cell_type": "code",
   "execution_count": 508,
   "id": "2e1aeb50",
   "metadata": {},
   "outputs": [],
   "source": [
    "lemmatizer = WordNetLemmatizer()"
   ]
  },
  {
   "cell_type": "code",
   "execution_count": 509,
   "id": "7f2dd6c7",
   "metadata": {},
   "outputs": [],
   "source": [
    "df['subreddit'] = df['subreddit'].map({'KDRAMA': 1, 'kpop': 0})"
   ]
  },
  {
   "cell_type": "code",
   "execution_count": 510,
   "id": "46d80a06",
   "metadata": {
    "scrolled": true
   },
   "outputs": [
    {
     "data": {
      "text/html": [
       "<div>\n",
       "<style scoped>\n",
       "    .dataframe tbody tr th:only-of-type {\n",
       "        vertical-align: middle;\n",
       "    }\n",
       "\n",
       "    .dataframe tbody tr th {\n",
       "        vertical-align: top;\n",
       "    }\n",
       "\n",
       "    .dataframe thead th {\n",
       "        text-align: right;\n",
       "    }\n",
       "</style>\n",
       "<table border=\"1\" class=\"dataframe\">\n",
       "  <thead>\n",
       "    <tr style=\"text-align: right;\">\n",
       "      <th></th>\n",
       "      <th>author</th>\n",
       "      <th>id</th>\n",
       "      <th>score</th>\n",
       "      <th>subreddit</th>\n",
       "      <th>title</th>\n",
       "      <th>selftext</th>\n",
       "      <th>created_utc</th>\n",
       "      <th>num_comments</th>\n",
       "    </tr>\n",
       "  </thead>\n",
       "  <tbody>\n",
       "    <tr>\n",
       "      <th>0</th>\n",
       "      <td>bon123bon</td>\n",
       "      <td>qx7ouc</td>\n",
       "      <td>1</td>\n",
       "      <td>1</td>\n",
       "      <td>Best Kdrama Crying Scene?</td>\n",
       "      <td>I was watching You Are My Spring, and DAMN in ...</td>\n",
       "      <td>1637294345</td>\n",
       "      <td>0</td>\n",
       "    </tr>\n",
       "    <tr>\n",
       "      <th>1</th>\n",
       "      <td>Ems_Dilemma</td>\n",
       "      <td>qx0urn</td>\n",
       "      <td>1</td>\n",
       "      <td>1</td>\n",
       "      <td>Goblin is so much more than just visuals!</td>\n",
       "      <td>Goblin is so very pleasing to the eyes! And I'...</td>\n",
       "      <td>1637273050</td>\n",
       "      <td>0</td>\n",
       "    </tr>\n",
       "    <tr>\n",
       "      <th>2</th>\n",
       "      <td>sianiam</td>\n",
       "      <td>qwkajs</td>\n",
       "      <td>1</td>\n",
       "      <td>1</td>\n",
       "      <td>The Weekly Binge: Life On Mars - Episodes 3 - 4</td>\n",
       "      <td>Welcome to the Weekly Binge Discussion of [**L...</td>\n",
       "      <td>1637219736</td>\n",
       "      <td>0</td>\n",
       "    </tr>\n",
       "    <tr>\n",
       "      <th>3</th>\n",
       "      <td>AutoModerator</td>\n",
       "      <td>qwk2he</td>\n",
       "      <td>1</td>\n",
       "      <td>1</td>\n",
       "      <td>The Thursday Round-Up: Links to Our Rules, Pol...</td>\n",
       "      <td>This is your weekly reminder that we have rule...</td>\n",
       "      <td>1637218810</td>\n",
       "      <td>0</td>\n",
       "    </tr>\n",
       "    <tr>\n",
       "      <th>4</th>\n",
       "      <td>masbond84</td>\n",
       "      <td>quig97</td>\n",
       "      <td>1</td>\n",
       "      <td>1</td>\n",
       "      <td>[2021.11.08~2021.11.14] Prime-time Drama Viewe...</td>\n",
       "      <td># Monday-Tuesday\\n\\n|Network|Drama|Day/Time|Ep...</td>\n",
       "      <td>1636988743</td>\n",
       "      <td>19</td>\n",
       "    </tr>\n",
       "  </tbody>\n",
       "</table>\n",
       "</div>"
      ],
      "text/plain": [
       "          author      id  score  subreddit  \\\n",
       "0      bon123bon  qx7ouc      1          1   \n",
       "1    Ems_Dilemma  qx0urn      1          1   \n",
       "2        sianiam  qwkajs      1          1   \n",
       "3  AutoModerator  qwk2he      1          1   \n",
       "4      masbond84  quig97      1          1   \n",
       "\n",
       "                                               title  \\\n",
       "0                          Best Kdrama Crying Scene?   \n",
       "1          Goblin is so much more than just visuals!   \n",
       "2    The Weekly Binge: Life On Mars - Episodes 3 - 4   \n",
       "3  The Thursday Round-Up: Links to Our Rules, Pol...   \n",
       "4  [2021.11.08~2021.11.14] Prime-time Drama Viewe...   \n",
       "\n",
       "                                            selftext  created_utc  \\\n",
       "0  I was watching You Are My Spring, and DAMN in ...   1637294345   \n",
       "1  Goblin is so very pleasing to the eyes! And I'...   1637273050   \n",
       "2  Welcome to the Weekly Binge Discussion of [**L...   1637219736   \n",
       "3  This is your weekly reminder that we have rule...   1637218810   \n",
       "4  # Monday-Tuesday\\n\\n|Network|Drama|Day/Time|Ep...   1636988743   \n",
       "\n",
       "   num_comments  \n",
       "0             0  \n",
       "1             0  \n",
       "2             0  \n",
       "3             0  \n",
       "4            19  "
      ]
     },
     "execution_count": 510,
     "metadata": {},
     "output_type": "execute_result"
    }
   ],
   "source": [
    "df.head()"
   ]
  },
  {
   "cell_type": "code",
   "execution_count": 556,
   "id": "e3f21f1b",
   "metadata": {},
   "outputs": [
    {
     "data": {
      "text/plain": [
       "['I was watching You Are My Spring, and DAMN in episode 9 when Da Jung is revisiting a repressed memory (keeping it vague due to spoilers, obvi) and she just breaks down in a way that I have *never* seen before from an actor in kdramas.',\n",
       " 'The bulging eyes, fighting to break, the inability to properly keep their literal composure (hands flailing as if by reflex).',\n",
       " 'I know that many actors channel painful experiences from their own pasts in order to really immerse themselves in their crying scenes but WOW.',\n",
       " \"I don't ever think I've witnessed a more intense crying scene.\",\n",
       " '**....',\n",
       " 'BUT**\\n\\nI know there must be rivals for the best, most heart-rendering crying scenes out there.']"
      ]
     },
     "execution_count": 556,
     "metadata": {},
     "output_type": "execute_result"
    }
   ],
   "source": [
    "sent_tokenize(df['selftext'][0])"
   ]
  },
  {
   "cell_type": "code",
   "execution_count": 557,
   "id": "8c072501",
   "metadata": {
    "scrolled": true
   },
   "outputs": [
    {
     "data": {
      "text/plain": [
       "['I',\n",
       " 'was',\n",
       " 'watching',\n",
       " 'You',\n",
       " 'Are',\n",
       " 'My',\n",
       " 'Spring',\n",
       " ',',\n",
       " 'and',\n",
       " 'DAMN',\n",
       " 'in',\n",
       " 'episode',\n",
       " '9',\n",
       " 'when',\n",
       " 'Da',\n",
       " 'Jung',\n",
       " 'is',\n",
       " 'revisiting',\n",
       " 'a',\n",
       " 'repressed',\n",
       " 'memory',\n",
       " '(',\n",
       " 'keeping',\n",
       " 'it',\n",
       " 'vague',\n",
       " 'due',\n",
       " 'to',\n",
       " 'spoilers',\n",
       " ',',\n",
       " 'obvi',\n",
       " ')',\n",
       " 'and',\n",
       " 'she',\n",
       " 'just',\n",
       " 'breaks',\n",
       " 'down',\n",
       " 'in',\n",
       " 'a',\n",
       " 'way',\n",
       " 'that',\n",
       " 'I',\n",
       " 'have',\n",
       " '*',\n",
       " 'never',\n",
       " '*',\n",
       " 'seen',\n",
       " 'before',\n",
       " 'from',\n",
       " 'an',\n",
       " 'actor',\n",
       " 'in',\n",
       " 'kdramas',\n",
       " '.',\n",
       " 'The',\n",
       " 'bulging',\n",
       " 'eyes',\n",
       " ',',\n",
       " 'fighting',\n",
       " 'to',\n",
       " 'break',\n",
       " ',',\n",
       " 'the',\n",
       " 'inability',\n",
       " 'to',\n",
       " 'properly',\n",
       " 'keep',\n",
       " 'their',\n",
       " 'literal',\n",
       " 'composure',\n",
       " '(',\n",
       " 'hands',\n",
       " 'flailing',\n",
       " 'as',\n",
       " 'if',\n",
       " 'by',\n",
       " 'reflex',\n",
       " ')',\n",
       " '.',\n",
       " 'I',\n",
       " 'know',\n",
       " 'that',\n",
       " 'many',\n",
       " 'actors',\n",
       " 'channel',\n",
       " 'painful',\n",
       " 'experiences',\n",
       " 'from',\n",
       " 'their',\n",
       " 'own',\n",
       " 'pasts',\n",
       " 'in',\n",
       " 'order',\n",
       " 'to',\n",
       " 'really',\n",
       " 'immerse',\n",
       " 'themselves',\n",
       " 'in',\n",
       " 'their',\n",
       " 'crying',\n",
       " 'scenes',\n",
       " 'but',\n",
       " 'WOW',\n",
       " '.',\n",
       " 'I',\n",
       " 'do',\n",
       " \"n't\",\n",
       " 'ever',\n",
       " 'think',\n",
       " 'I',\n",
       " \"'ve\",\n",
       " 'witnessed',\n",
       " 'a',\n",
       " 'more',\n",
       " 'intense',\n",
       " 'crying',\n",
       " 'scene',\n",
       " '.',\n",
       " '*',\n",
       " '*',\n",
       " '....',\n",
       " 'BUT',\n",
       " '*',\n",
       " '*',\n",
       " 'I',\n",
       " 'know',\n",
       " 'there',\n",
       " 'must',\n",
       " 'be',\n",
       " 'rivals',\n",
       " 'for',\n",
       " 'the',\n",
       " 'best',\n",
       " ',',\n",
       " 'most',\n",
       " 'heart-rendering',\n",
       " 'crying',\n",
       " 'scenes',\n",
       " 'out',\n",
       " 'there',\n",
       " '.']"
      ]
     },
     "execution_count": 557,
     "metadata": {},
     "output_type": "execute_result"
    }
   ],
   "source": [
    "word_tokenize(df['selftext'][0])"
   ]
  },
  {
   "cell_type": "code",
   "execution_count": 558,
   "id": "76300d6a",
   "metadata": {},
   "outputs": [],
   "source": [
    "tokenizer = RegexpTokenizer(r'\\w+')"
   ]
  },
  {
   "cell_type": "code",
   "execution_count": 561,
   "id": "045e1be5",
   "metadata": {},
   "outputs": [],
   "source": [
    "selftext_tokens = tokenizer.tokenize(df['selftext'][0].lower())"
   ]
  },
  {
   "cell_type": "code",
   "execution_count": 562,
   "id": "2e1d402f",
   "metadata": {
    "scrolled": true
   },
   "outputs": [
    {
     "data": {
      "text/plain": [
       "['i',\n",
       " 'was',\n",
       " 'watching',\n",
       " 'you',\n",
       " 'are',\n",
       " 'my',\n",
       " 'spring',\n",
       " 'and',\n",
       " 'damn',\n",
       " 'in',\n",
       " 'episode',\n",
       " '9',\n",
       " 'when',\n",
       " 'da',\n",
       " 'jung',\n",
       " 'is',\n",
       " 'revisiting',\n",
       " 'a',\n",
       " 'repressed',\n",
       " 'memory',\n",
       " 'keeping',\n",
       " 'it',\n",
       " 'vague',\n",
       " 'due',\n",
       " 'to',\n",
       " 'spoilers',\n",
       " 'obvi',\n",
       " 'and',\n",
       " 'she',\n",
       " 'just',\n",
       " 'breaks',\n",
       " 'down',\n",
       " 'in',\n",
       " 'a',\n",
       " 'way',\n",
       " 'that',\n",
       " 'i',\n",
       " 'have',\n",
       " 'never',\n",
       " 'seen',\n",
       " 'before',\n",
       " 'from',\n",
       " 'an',\n",
       " 'actor',\n",
       " 'in',\n",
       " 'kdramas',\n",
       " 'the',\n",
       " 'bulging',\n",
       " 'eyes',\n",
       " 'fighting',\n",
       " 'to',\n",
       " 'break',\n",
       " 'the',\n",
       " 'inability',\n",
       " 'to',\n",
       " 'properly',\n",
       " 'keep',\n",
       " 'their',\n",
       " 'literal',\n",
       " 'composure',\n",
       " 'hands',\n",
       " 'flailing',\n",
       " 'as',\n",
       " 'if',\n",
       " 'by',\n",
       " 'reflex',\n",
       " 'i',\n",
       " 'know',\n",
       " 'that',\n",
       " 'many',\n",
       " 'actors',\n",
       " 'channel',\n",
       " 'painful',\n",
       " 'experiences',\n",
       " 'from',\n",
       " 'their',\n",
       " 'own',\n",
       " 'pasts',\n",
       " 'in',\n",
       " 'order',\n",
       " 'to',\n",
       " 'really',\n",
       " 'immerse',\n",
       " 'themselves',\n",
       " 'in',\n",
       " 'their',\n",
       " 'crying',\n",
       " 'scenes',\n",
       " 'but',\n",
       " 'wow',\n",
       " 'i',\n",
       " 'don',\n",
       " 't',\n",
       " 'ever',\n",
       " 'think',\n",
       " 'i',\n",
       " 've',\n",
       " 'witnessed',\n",
       " 'a',\n",
       " 'more',\n",
       " 'intense',\n",
       " 'crying',\n",
       " 'scene',\n",
       " 'but',\n",
       " 'i',\n",
       " 'know',\n",
       " 'there',\n",
       " 'must',\n",
       " 'be',\n",
       " 'rivals',\n",
       " 'for',\n",
       " 'the',\n",
       " 'best',\n",
       " 'most',\n",
       " 'heart',\n",
       " 'rendering',\n",
       " 'crying',\n",
       " 'scenes',\n",
       " 'out',\n",
       " 'there']"
      ]
     },
     "execution_count": 562,
     "metadata": {},
     "output_type": "execute_result"
    }
   ],
   "source": [
    "selftext_tokens"
   ]
  },
  {
   "cell_type": "code",
   "execution_count": 563,
   "id": "f4e961f7",
   "metadata": {},
   "outputs": [],
   "source": [
    "p_stemmer = PorterStemmer()"
   ]
  },
  {
   "cell_type": "code",
   "execution_count": null,
   "id": "aa5427c0",
   "metadata": {},
   "outputs": [],
   "source": []
  },
  {
   "cell_type": "code",
   "execution_count": 511,
   "id": "d3e36529",
   "metadata": {},
   "outputs": [],
   "source": [
    "# df['selftext'].str.isascii()\n",
    "\n",
    "#.extract('(\\w[a-zA-Z]+\\w)')"
   ]
  },
  {
   "cell_type": "code",
   "execution_count": 512,
   "id": "54098b77",
   "metadata": {},
   "outputs": [],
   "source": [
    "cvec = CountVectorizer(stop_words='english')"
   ]
  },
  {
   "cell_type": "code",
   "execution_count": 513,
   "id": "8c2c0587",
   "metadata": {},
   "outputs": [],
   "source": [
    "X = df['selftext']\n",
    "y = df['subreddit']"
   ]
  },
  {
   "cell_type": "code",
   "execution_count": 514,
   "id": "1df7c185",
   "metadata": {},
   "outputs": [],
   "source": [
    "X_train, X_test, y_train, y_test = train_test_split(X,\n",
    "                                                    y,\n",
    "                                                    test_size=0.33,\n",
    "                                                    stratify=y,\n",
    "                                                    random_state=42)"
   ]
  },
  {
   "cell_type": "code",
   "execution_count": 515,
   "id": "3ddc29bb",
   "metadata": {},
   "outputs": [
    {
     "data": {
      "text/plain": [
       "CountVectorizer(stop_words='english')"
      ]
     },
     "execution_count": 515,
     "metadata": {},
     "output_type": "execute_result"
    }
   ],
   "source": [
    "cvec.fit(X_train)"
   ]
  },
  {
   "cell_type": "code",
   "execution_count": 516,
   "id": "b29c9b3f",
   "metadata": {},
   "outputs": [],
   "source": [
    "X_train_cvec = cvec.transform(X_train)\n",
    "X_test_cvec = cvec.transform(X_test)"
   ]
  },
  {
   "cell_type": "code",
   "execution_count": 517,
   "id": "41c87776",
   "metadata": {},
   "outputs": [
    {
     "data": {
      "text/plain": [
       "(1203, 30904)"
      ]
     },
     "execution_count": 517,
     "metadata": {},
     "output_type": "execute_result"
    }
   ],
   "source": [
    "X_train_cvec.shape"
   ]
  },
  {
   "cell_type": "code",
   "execution_count": 518,
   "id": "b6e4fba3",
   "metadata": {},
   "outputs": [
    {
     "data": {
      "text/plain": [
       "(594, 30904)"
      ]
     },
     "execution_count": 518,
     "metadata": {},
     "output_type": "execute_result"
    }
   ],
   "source": [
    "X_test_cvec.shape"
   ]
  },
  {
   "cell_type": "markdown",
   "id": "22024cc8",
   "metadata": {},
   "source": [
    "# First Model"
   ]
  },
  {
   "cell_type": "code",
   "execution_count": 519,
   "id": "8ae5b02a",
   "metadata": {},
   "outputs": [],
   "source": [
    "X_train_df = pd.DataFrame(X_train_cvec.todense(), \n",
    "                          columns=cvec.get_feature_names())"
   ]
  },
  {
   "cell_type": "code",
   "execution_count": 520,
   "id": "94cd6093",
   "metadata": {},
   "outputs": [],
   "source": [
    "X_train_df['kdrama_or_kpop'] = y_train.values"
   ]
  },
  {
   "cell_type": "code",
   "execution_count": 566,
   "id": "214654b2",
   "metadata": {},
   "outputs": [
    {
     "data": {
      "text/plain": [
       "0.6118038237738986"
      ]
     },
     "execution_count": 566,
     "metadata": {},
     "output_type": "execute_result"
    }
   ],
   "source": [
    "X_train_df['kdrama_or_kpop'].mean()"
   ]
  },
  {
   "cell_type": "markdown",
   "id": "9aad2d61",
   "metadata": {},
   "source": [
    "Baseline score would be that there are 0.61 chance of the data leaning towards kdrama than kpop."
   ]
  },
  {
   "cell_type": "code",
   "execution_count": 521,
   "id": "006393b2",
   "metadata": {},
   "outputs": [
    {
     "data": {
      "text/plain": [
       "<AxesSubplot:>"
      ]
     },
     "execution_count": 521,
     "metadata": {},
     "output_type": "execute_result"
    },
    {
     "data": {
      "image/png": "[encoded data removed]",
      "text/plain": [
       "<Figure size 864x432 with 1 Axes>"
      ]
     },
     "metadata": {
      "needs_background": "light"
     },
     "output_type": "display_data"
    }
   ],
   "source": [
    "X_train_df.groupby('kdrama_or_kpop').sum().T.sort_values(1, ascending=False).head(10).sort_values(1).plot(kind='barh', figsize=(12, 6))"
   ]
  },
  {
   "cell_type": "markdown",
   "id": "3cc29074",
   "metadata": {},
   "source": [
    "Let's conduct sys to see if we can get rid of the https, com and all unneccesary words. When taking this most used words in our subreddits and comparing it to the different subreddits (KDRAMA or kpop), I have found that there were lots of links. By looking art the chart, I have decided to delete columns like 'www', 'https', and 'com'. I found it disturbing to the research."
   ]
  },
  {
   "cell_type": "code",
   "execution_count": 522,
   "id": "21cb3376",
   "metadata": {},
   "outputs": [
    {
     "data": {
      "text/plain": [
       "48"
      ]
     },
     "execution_count": 522,
     "metadata": {},
     "output_type": "execute_result"
    }
   ],
   "source": [
    "sys.getsizeof(X_train_cvec)"
   ]
  },
  {
   "cell_type": "code",
   "execution_count": 523,
   "id": "fa7180b1",
   "metadata": {},
   "outputs": [
    {
     "data": {
      "text/plain": [
       "144"
      ]
     },
     "execution_count": 523,
     "metadata": {},
     "output_type": "execute_result"
    }
   ],
   "source": [
    "sys.getsizeof(X_train_cvec.todense())"
   ]
  },
  {
   "cell_type": "code",
   "execution_count": 524,
   "id": "2d21114b",
   "metadata": {},
   "outputs": [],
   "source": [
    "X_train_df = pd.DataFrame(X_train_cvec.todense(), \n",
    "                          columns=cvec.get_feature_names())"
   ]
  },
  {
   "cell_type": "code",
   "execution_count": 525,
   "id": "d57155b6",
   "metadata": {},
   "outputs": [],
   "source": [
    "X_train_df.drop(columns = ['www', 'https', 'com'], inplace=True)"
   ]
  },
  {
   "cell_type": "code",
   "execution_count": 526,
   "id": "928a3f7c",
   "metadata": {},
   "outputs": [],
   "source": [
    "X_test.drop(columns = ['www', 'https', 'com'], inplace=True)"
   ]
  },
  {
   "cell_type": "code",
   "execution_count": 527,
   "id": "908951d2",
   "metadata": {},
   "outputs": [
    {
     "data": {
      "text/plain": [
       "<AxesSubplot:>"
      ]
     },
     "execution_count": 527,
     "metadata": {},
     "output_type": "execute_result"
    },
    {
     "data": {
      "image/png": "[encoded data removed]",
      "text/plain": [
       "<Figure size 432x288 with 1 Axes>"
      ]
     },
     "metadata": {
      "needs_background": "light"
     },
     "output_type": "display_data"
    }
   ],
   "source": [
    "X_train_df.sum().sort_values(ascending=False).head(20).plot(kind='barh')"
   ]
  },
  {
   "cell_type": "markdown",
   "id": "23b6a158",
   "metadata": {},
   "source": [
    "After deleting the three columns, we are able to see the most common words include 'youtube', 'drama', 'kdrama', 'kpop' and 'music'. "
   ]
  },
  {
   "cell_type": "code",
   "execution_count": 528,
   "id": "13eaca54",
   "metadata": {},
   "outputs": [
    {
     "data": {
      "text/html": [
       "<div>\n",
       "<style scoped>\n",
       "    .dataframe tbody tr th:only-of-type {\n",
       "        vertical-align: middle;\n",
       "    }\n",
       "\n",
       "    .dataframe tbody tr th {\n",
       "        vertical-align: top;\n",
       "    }\n",
       "\n",
       "    .dataframe thead th {\n",
       "        text-align: right;\n",
       "    }\n",
       "</style>\n",
       "<table border=\"1\" class=\"dataframe\">\n",
       "  <thead>\n",
       "    <tr style=\"text-align: right;\">\n",
       "      <th>kdrama_or_kpop</th>\n",
       "      <th>0</th>\n",
       "      <th>1</th>\n",
       "    </tr>\n",
       "  </thead>\n",
       "  <tbody>\n",
       "    <tr>\n",
       "      <th>drama</th>\n",
       "      <td>33</td>\n",
       "      <td>2275</td>\n",
       "    </tr>\n",
       "    <tr>\n",
       "      <th>kdrama</th>\n",
       "      <td>7</td>\n",
       "      <td>2225</td>\n",
       "    </tr>\n",
       "    <tr>\n",
       "      <th>amp</th>\n",
       "      <td>823</td>\n",
       "      <td>2223</td>\n",
       "    </tr>\n",
       "    <tr>\n",
       "      <th>best</th>\n",
       "      <td>715</td>\n",
       "      <td>1306</td>\n",
       "    </tr>\n",
       "    <tr>\n",
       "      <th>like</th>\n",
       "      <td>755</td>\n",
       "      <td>1085</td>\n",
       "    </tr>\n",
       "    <tr>\n",
       "      <th>reddit</th>\n",
       "      <td>1013</td>\n",
       "      <td>1055</td>\n",
       "    </tr>\n",
       "    <tr>\n",
       "      <th>just</th>\n",
       "      <td>458</td>\n",
       "      <td>991</td>\n",
       "    </tr>\n",
       "    <tr>\n",
       "      <th>gt</th>\n",
       "      <td>262</td>\n",
       "      <td>953</td>\n",
       "    </tr>\n",
       "    <tr>\n",
       "      <th>wiki</th>\n",
       "      <td>225</td>\n",
       "      <td>947</td>\n",
       "    </tr>\n",
       "    <tr>\n",
       "      <th>air</th>\n",
       "      <td>25</td>\n",
       "      <td>944</td>\n",
       "    </tr>\n",
       "    <tr>\n",
       "      <th>new</th>\n",
       "      <td>419</td>\n",
       "      <td>936</td>\n",
       "    </tr>\n",
       "    <tr>\n",
       "      <th>love</th>\n",
       "      <td>500</td>\n",
       "      <td>860</td>\n",
       "    </tr>\n",
       "    <tr>\n",
       "      <th>dramas</th>\n",
       "      <td>11</td>\n",
       "      <td>840</td>\n",
       "    </tr>\n",
       "    <tr>\n",
       "      <th>time</th>\n",
       "      <td>394</td>\n",
       "      <td>782</td>\n",
       "    </tr>\n",
       "    <tr>\n",
       "      <th>lt</th>\n",
       "      <td>98</td>\n",
       "      <td>756</td>\n",
       "    </tr>\n",
       "    <tr>\n",
       "      <th>really</th>\n",
       "      <td>323</td>\n",
       "      <td>710</td>\n",
       "    </tr>\n",
       "    <tr>\n",
       "      <th>10</th>\n",
       "      <td>214</td>\n",
       "      <td>702</td>\n",
       "    </tr>\n",
       "    <tr>\n",
       "      <th>discussions</th>\n",
       "      <td>35</td>\n",
       "      <td>678</td>\n",
       "    </tr>\n",
       "    <tr>\n",
       "      <th>discussion</th>\n",
       "      <td>95</td>\n",
       "      <td>675</td>\n",
       "    </tr>\n",
       "    <tr>\n",
       "      <th>search</th>\n",
       "      <td>14</td>\n",
       "      <td>656</td>\n",
       "    </tr>\n",
       "  </tbody>\n",
       "</table>\n",
       "</div>"
      ],
      "text/plain": [
       "kdrama_or_kpop     0     1\n",
       "drama             33  2275\n",
       "kdrama             7  2225\n",
       "amp              823  2223\n",
       "best             715  1306\n",
       "like             755  1085\n",
       "reddit          1013  1055\n",
       "just             458   991\n",
       "gt               262   953\n",
       "wiki             225   947\n",
       "air               25   944\n",
       "new              419   936\n",
       "love             500   860\n",
       "dramas            11   840\n",
       "time             394   782\n",
       "lt                98   756\n",
       "really           323   710\n",
       "10               214   702\n",
       "discussions       35   678\n",
       "discussion        95   675\n",
       "search            14   656"
      ]
     },
     "execution_count": 528,
     "metadata": {},
     "output_type": "execute_result"
    }
   ],
   "source": [
    "X_train_df['kdrama_or_kpop'] = y_train.values\n",
    "X_train_df.groupby('kdrama_or_kpop').sum().T.sort_values(1, ascending=False).head(20)"
   ]
  },
  {
   "cell_type": "code",
   "execution_count": 529,
   "id": "816cde33",
   "metadata": {
    "scrolled": true
   },
   "outputs": [
    {
     "data": {
      "text/plain": [
       "0       1\n",
       "1       1\n",
       "2       1\n",
       "3       1\n",
       "4       1\n",
       "       ..\n",
       "1792    0\n",
       "1793    0\n",
       "1794    0\n",
       "1795    0\n",
       "1796    0\n",
       "Name: subreddit, Length: 1797, dtype: int64"
      ]
     },
     "execution_count": 529,
     "metadata": {},
     "output_type": "execute_result"
    }
   ],
   "source": [
    "df['subreddit']"
   ]
  },
  {
   "cell_type": "markdown",
   "id": "12560e70",
   "metadata": {},
   "source": [
    "Logistic Regression"
   ]
  },
  {
   "cell_type": "code",
   "execution_count": 530,
   "id": "48f0eaf6",
   "metadata": {},
   "outputs": [
    {
     "data": {
      "text/plain": [
       "LogisticRegression()"
      ]
     },
     "execution_count": 530,
     "metadata": {},
     "output_type": "execute_result"
    }
   ],
   "source": [
    "logreg = LogisticRegression()\n",
    "logreg.fit(X_train_cvec, y_train)"
   ]
  },
  {
   "cell_type": "code",
   "execution_count": 531,
   "id": "9bb9af2f",
   "metadata": {},
   "outputs": [
    {
     "data": {
      "text/plain": [
       "(0.999168744804655, 0.9646464646464646)"
      ]
     },
     "execution_count": 531,
     "metadata": {},
     "output_type": "execute_result"
    }
   ],
   "source": [
    "logreg.score(X_train_cvec, y_train), logreg.score(X_test_cvec, y_test)"
   ]
  },
  {
   "cell_type": "code",
   "execution_count": 532,
   "id": "e18fa1cd",
   "metadata": {},
   "outputs": [],
   "source": [
    "preds = logreg.predict(X_test_cvec)"
   ]
  },
  {
   "cell_type": "code",
   "execution_count": 533,
   "id": "c693196d",
   "metadata": {},
   "outputs": [
    {
     "name": "stdout",
     "output_type": "stream",
     "text": [
      "              precision    recall  f1-score   support\n",
      "\n",
      "           0       0.93      0.98      0.96       230\n",
      "           1       0.99      0.95      0.97       364\n",
      "\n",
      "    accuracy                           0.96       594\n",
      "   macro avg       0.96      0.97      0.96       594\n",
      "weighted avg       0.97      0.96      0.96       594\n",
      "\n"
     ]
    }
   ],
   "source": [
    "from sklearn.metrics import classification_report\n",
    "\n",
    "print(classification_report(y_test,preds)) "
   ]
  },
  {
   "cell_type": "code",
   "execution_count": 534,
   "id": "5e4be7bb",
   "metadata": {},
   "outputs": [
    {
     "data": {
      "image/png": "[encoded data removed]",
      "text/plain": [
       "<Figure size 432x288 with 2 Axes>"
      ]
     },
     "metadata": {
      "needs_background": "light"
     },
     "output_type": "display_data"
    }
   ],
   "source": [
    "plot_confusion_matrix(logreg, X_test_cvec, y_test, display_labels=['KDRAMA', 'kpop'])\n",
    "plt.title('Confusion Matrix for Logreg', fontsize=20)\n",
    "plt.savefig('logreg_CM.png');"
   ]
  },
  {
   "cell_type": "markdown",
   "id": "e3533804",
   "metadata": {},
   "source": [
    "This logistics Regression Model gave a really good prediction in predicting the true kpop and KDRAMA. When running through our test model, we only had 21 false KDRAMA and kpop in total."
   ]
  },
  {
   "cell_type": "code",
   "execution_count": 554,
   "id": "4078bacd",
   "metadata": {
    "scrolled": true
   },
   "outputs": [
    {
     "data": {
      "text/plain": [
       "6.133443797130044e-05"
      ]
     },
     "execution_count": 554,
     "metadata": {},
     "output_type": "execute_result"
    }
   ],
   "source": [
    "logreg.coef_.mean()"
   ]
  },
  {
   "cell_type": "markdown",
   "id": "8e942556",
   "metadata": {},
   "source": [
    "# Second Model"
   ]
  },
  {
   "cell_type": "code",
   "execution_count": 535,
   "id": "7ad9250c",
   "metadata": {},
   "outputs": [],
   "source": [
    "X = df['selftext']\n",
    "y = df['subreddit']\n"
   ]
  },
  {
   "cell_type": "code",
   "execution_count": 536,
   "id": "9d0488d4",
   "metadata": {},
   "outputs": [],
   "source": [
    "X_train, X_test, y_train, y_test = train_test_split(X,\n",
    "                                                    y,\n",
    "                                                    test_size=0.33,\n",
    "                                                    stratify=y,\n",
    "                                                    random_state=42)"
   ]
  },
  {
   "cell_type": "code",
   "execution_count": 537,
   "id": "64abb4ed",
   "metadata": {},
   "outputs": [
    {
     "data": {
      "text/plain": [
       "CountVectorizer(stop_words='english')"
      ]
     },
     "execution_count": 537,
     "metadata": {},
     "output_type": "execute_result"
    }
   ],
   "source": [
    "cvec.fit(X_train)"
   ]
  },
  {
   "cell_type": "code",
   "execution_count": 538,
   "id": "29238edc",
   "metadata": {},
   "outputs": [],
   "source": [
    "X_train_cvec = cvec.transform(X_train)\n",
    "X_test_cvec = cvec.transform(X_test)"
   ]
  },
  {
   "cell_type": "code",
   "execution_count": 539,
   "id": "ca3db2c4",
   "metadata": {},
   "outputs": [],
   "source": [
    "knn_pipe = Pipeline([\n",
    "    ('ss', StandardScaler(with_mean=False)),\n",
    "    ('knn', KNeighborsClassifier())\n",
    "])"
   ]
  },
  {
   "cell_type": "code",
   "execution_count": 540,
   "id": "032ae89d",
   "metadata": {},
   "outputs": [
    {
     "data": {
      "text/plain": [
       "Pipeline(steps=[('ss', StandardScaler(with_mean=False)),\n",
       "                ('knn', KNeighborsClassifier())])"
      ]
     },
     "execution_count": 540,
     "metadata": {},
     "output_type": "execute_result"
    }
   ],
   "source": [
    "knn_pipe.fit(X_train_cvec, y_train)"
   ]
  },
  {
   "cell_type": "code",
   "execution_count": 541,
   "id": "8757a12b",
   "metadata": {},
   "outputs": [
    {
     "data": {
      "text/plain": [
       "0.5834854771784233"
      ]
     },
     "execution_count": 541,
     "metadata": {},
     "output_type": "execute_result"
    }
   ],
   "source": [
    "cross_val_score(knn_pipe, X_train_cvec, y_train).mean()"
   ]
  },
  {
   "cell_type": "code",
   "execution_count": 542,
   "id": "a38b4138",
   "metadata": {},
   "outputs": [
    {
     "data": {
      "text/plain": [
       "(0.7173732335827099, 0.5521885521885522)"
      ]
     },
     "execution_count": 542,
     "metadata": {},
     "output_type": "execute_result"
    }
   ],
   "source": [
    "knn_pipe.score(X_train_cvec, y_train), knn_pipe.score(X_test_cvec, y_test)"
   ]
  },
  {
   "cell_type": "code",
   "execution_count": 543,
   "id": "2aabc40b",
   "metadata": {},
   "outputs": [],
   "source": [
    "predictions = logreg.predict(X_test_cvec)"
   ]
  },
  {
   "cell_type": "code",
   "execution_count": 544,
   "id": "a73de95a",
   "metadata": {},
   "outputs": [
    {
     "name": "stdout",
     "output_type": "stream",
     "text": [
      "              precision    recall  f1-score   support\n",
      "\n",
      "           0       0.93      0.98      0.96       230\n",
      "           1       0.99      0.95      0.97       364\n",
      "\n",
      "    accuracy                           0.96       594\n",
      "   macro avg       0.96      0.97      0.96       594\n",
      "weighted avg       0.97      0.96      0.96       594\n",
      "\n"
     ]
    }
   ],
   "source": [
    "from sklearn.metrics import classification_report\n",
    "\n",
    "print(classification_report(y_test,predictions)) "
   ]
  },
  {
   "cell_type": "code",
   "execution_count": 545,
   "id": "c83ed018",
   "metadata": {},
   "outputs": [
    {
     "data": {
      "image/png": "[encoded data removed]",
      "text/plain": [
       "<Figure size 432x288 with 2 Axes>"
      ]
     },
     "metadata": {
      "needs_background": "light"
     },
     "output_type": "display_data"
    }
   ],
   "source": [
    "plot_confusion_matrix(knn_pipe, X_test_cvec, y_test, display_labels=['KDRAMA', 'kpop'])\n",
    "plt.title('Confusion Matrix for knn', fontsize=20)\n",
    "plt.savefig('knn_cm.png');"
   ]
  },
  {
   "cell_type": "markdown",
   "id": "41979a73",
   "metadata": {},
   "source": [
    "This Confusion Matrix shows that although the prediction for KDRAMA was good, the kpop had a lot of false kdrama. Only 111 words were True but other KDRAMA predictions should have been kpop. There were 253 kpop rows that i missed and 13 KDRAMA rows."
   ]
  }
 ],
 "metadata": {
  "kernelspec": {
   "display_name": "Python 3",
   "language": "python",
   "name": "python3"
  },
  "language_info": {
   "codemirror_mode": {
    "name": "ipython",
    "version": 3
   },
   "file_extension": ".py",
   "mimetype": "text/x-python",
   "name": "python",
   "nbconvert_exporter": "python",
   "pygments_lexer": "ipython3",
   "version": "3.8.8"
  }
 },
 "nbformat": 4,
 "nbformat_minor": 5
}
